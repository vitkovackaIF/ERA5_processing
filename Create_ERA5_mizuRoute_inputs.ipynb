{
 "cells": [
  {
   "cell_type": "code",
   "execution_count": null,
   "id": "dd59d157",
   "metadata": {},
   "outputs": [],
   "source": [
    "# Code to merge hourly ERA5 data downloaded from cdsapi to daily data by years.\n",
    "# Created by Vit Kovacka on 2023-12-20\n",
    "# CAFL Aon Impact Forecasting project"
   ]
  },
  {
   "cell_type": "code",
   "execution_count": 7,
   "id": "fbba7b20",
   "metadata": {},
   "outputs": [],
   "source": [
    "import xarray as xr\n",
    "import glob"
   ]
  },
  {
   "cell_type": "code",
   "execution_count": 46,
   "id": "e263cc3d",
   "metadata": {},
   "outputs": [
    {
     "name": "stdout",
     "output_type": "stream",
     "text": [
      "Starting year: 2015\n",
      "Starting year: 2016\n",
      "Starting year: 2017\n",
      "Starting year: 2018\n",
      "Starting year: 2019\n",
      "Starting year: 2020\n",
      "Starting year: 2021\n",
      "Starting year: 2022\n"
     ]
    }
   ],
   "source": [
    "years = [2015, 2016, 2017, 2018, 2019, 2020, 2021, 2022] # years for merging\n",
    "in_folder = 'V:/Canada\\ERA5/Frazer/out_netcdf_era5_hourly/' # folder with downloaded hourly data\n",
    "out_folder = 'V:/Canada/ERA5/Frazer/' # folder, where daily outputs stored by years will be saved\n",
    "basin = 'Fraser'\n",
    "\n",
    "for year in years:\n",
    "    print('Starting year: '  + str(year))\n",
    "    file_names = sorted(glob.glob(in_folder + str(year) + '*'))\n",
    "    merged_hourly_data = xr.open_mfdataset(file_names, combine = 'nested', concat_dim = 'time')\n",
    "    merged_daily_data = merged_hourly_data.resample(time='1D').sum()\n",
    "    encoding = {'ro':{'_FillValue':-9999.0, 'dtype':'float32'}}\n",
    "    merged_daily_data.to_netcdf(out_folder + basin + '_' + str(year) + '.nc', encoding=encoding)"
   ]
  }
 ],
 "metadata": {
  "kernelspec": {
   "display_name": "Python 3 (ipykernel)",
   "language": "python",
   "name": "python3"
  },
  "language_info": {
   "codemirror_mode": {
    "name": "ipython",
    "version": 3
   },
   "file_extension": ".py",
   "mimetype": "text/x-python",
   "name": "python",
   "nbconvert_exporter": "python",
   "pygments_lexer": "ipython3",
   "version": "3.10.9"
  }
 },
 "nbformat": 4,
 "nbformat_minor": 5
}
